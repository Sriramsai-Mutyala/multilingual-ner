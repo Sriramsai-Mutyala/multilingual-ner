{
  "nbformat": 4,
  "nbformat_minor": 0,
  "metadata": {
    "colab": {
      "provenance": [],
      "include_colab_link": true
    },
    "kernelspec": {
      "name": "python3",
      "display_name": "Python 3"
    },
    "language_info": {
      "name": "python"
    }
  },
  "cells": [
    {
      "cell_type": "markdown",
      "metadata": {
        "id": "view-in-github",
        "colab_type": "text"
      },
      "source": [
        "<a href=\"https://colab.research.google.com/github/Sriramsai-Mutyala/multilingual-ner/blob/main/sriramsai7.ipynb\" target=\"_parent\"><img src=\"https://colab.research.google.com/assets/colab-badge.svg\" alt=\"Open In Colab\"/></a>"
      ]
    },
    {
      "cell_type": "code",
      "execution_count": null,
      "metadata": {
        "id": "0cMB3FSenfKL"
      },
      "outputs": [],
      "source": [
        "import tensorflow as tf\n",
        "import pandas as pd\n",
        "import numpy as np\n",
        "np.random.seed(0)"
      ]
    },
    {
      "cell_type": "code",
      "source": [
        "import pandas as pd\n",
        "import zipfile\n",
        "\n",
        "# Specify the path to the ZIP file\n",
        "zip_file_path = '/content/archive (1) (1).zip'\n",
        "# Specify the name of the CSV file you want to read\n",
        "csv_file_name = 'kannada_ner.csv'\n",
        "\n",
        "# Open the ZIP file and read the specified CSV file\n",
        "with zipfile.ZipFile(zip_file_path, 'r') as zip_file:\n",
        "    with zip_file.open(csv_file_name) as csv_file:\n",
        "        data1 = pd.read_csv(csv_file, encoding='UTF-8')\n",
        "\n",
        "# Display the first 10 rows of the DataFrame\n",
        "data1.head(10)"
      ],
      "metadata": {
        "id": "dI5wM3Ahqcrh",
        "colab": {
          "base_uri": "https://localhost:8080/",
          "height": 363
        },
        "outputId": "1bb7fe23-2aeb-4668-8bd7-028d665f9396"
      },
      "execution_count": null,
      "outputs": [
        {
          "output_type": "execute_result",
          "data": {
            "text/plain": [
              "            tokens tags\n",
              "0            ಕನ್ನಡ  NNP\n",
              "1          ರಂಗಭೂಮಿ   NN\n",
              "2                ,  SYM\n",
              "3  ಚಿತ್ರರಂಗಗಳಲ್ಲದೆ  UNK\n",
              "4              ಇತರ   JJ\n",
              "5       ಭಾಷೆಗಳಲ್ಲೂ   NN\n",
              "6        ಪ್ರಸಿದ್ಧಿ   NN\n",
              "7          ಪಡೆದವರು   VM\n",
              "8                .  SYM\n",
              "9             ಇವರು  PRP"
            ],
            "text/html": [
              "\n",
              "  <div id=\"df-51750bdd-6957-43b0-862d-79f774c8239e\" class=\"colab-df-container\">\n",
              "    <div>\n",
              "<style scoped>\n",
              "    .dataframe tbody tr th:only-of-type {\n",
              "        vertical-align: middle;\n",
              "    }\n",
              "\n",
              "    .dataframe tbody tr th {\n",
              "        vertical-align: top;\n",
              "    }\n",
              "\n",
              "    .dataframe thead th {\n",
              "        text-align: right;\n",
              "    }\n",
              "</style>\n",
              "<table border=\"1\" class=\"dataframe\">\n",
              "  <thead>\n",
              "    <tr style=\"text-align: right;\">\n",
              "      <th></th>\n",
              "      <th>tokens</th>\n",
              "      <th>tags</th>\n",
              "    </tr>\n",
              "  </thead>\n",
              "  <tbody>\n",
              "    <tr>\n",
              "      <th>0</th>\n",
              "      <td>ಕನ್ನಡ</td>\n",
              "      <td>NNP</td>\n",
              "    </tr>\n",
              "    <tr>\n",
              "      <th>1</th>\n",
              "      <td>ರಂಗಭೂಮಿ</td>\n",
              "      <td>NN</td>\n",
              "    </tr>\n",
              "    <tr>\n",
              "      <th>2</th>\n",
              "      <td>,</td>\n",
              "      <td>SYM</td>\n",
              "    </tr>\n",
              "    <tr>\n",
              "      <th>3</th>\n",
              "      <td>ಚಿತ್ರರಂಗಗಳಲ್ಲದೆ</td>\n",
              "      <td>UNK</td>\n",
              "    </tr>\n",
              "    <tr>\n",
              "      <th>4</th>\n",
              "      <td>ಇತರ</td>\n",
              "      <td>JJ</td>\n",
              "    </tr>\n",
              "    <tr>\n",
              "      <th>5</th>\n",
              "      <td>ಭಾಷೆಗಳಲ್ಲೂ</td>\n",
              "      <td>NN</td>\n",
              "    </tr>\n",
              "    <tr>\n",
              "      <th>6</th>\n",
              "      <td>ಪ್ರಸಿದ್ಧಿ</td>\n",
              "      <td>NN</td>\n",
              "    </tr>\n",
              "    <tr>\n",
              "      <th>7</th>\n",
              "      <td>ಪಡೆದವರು</td>\n",
              "      <td>VM</td>\n",
              "    </tr>\n",
              "    <tr>\n",
              "      <th>8</th>\n",
              "      <td>.</td>\n",
              "      <td>SYM</td>\n",
              "    </tr>\n",
              "    <tr>\n",
              "      <th>9</th>\n",
              "      <td>ಇವರು</td>\n",
              "      <td>PRP</td>\n",
              "    </tr>\n",
              "  </tbody>\n",
              "</table>\n",
              "</div>\n",
              "    <div class=\"colab-df-buttons\">\n",
              "\n",
              "  <div class=\"colab-df-container\">\n",
              "    <button class=\"colab-df-convert\" onclick=\"convertToInteractive('df-51750bdd-6957-43b0-862d-79f774c8239e')\"\n",
              "            title=\"Convert this dataframe to an interactive table.\"\n",
              "            style=\"display:none;\">\n",
              "\n",
              "  <svg xmlns=\"http://www.w3.org/2000/svg\" height=\"24px\" viewBox=\"0 -960 960 960\">\n",
              "    <path d=\"M120-120v-720h720v720H120Zm60-500h600v-160H180v160Zm220 220h160v-160H400v160Zm0 220h160v-160H400v160ZM180-400h160v-160H180v160Zm440 0h160v-160H620v160ZM180-180h160v-160H180v160Zm440 0h160v-160H620v160Z\"/>\n",
              "  </svg>\n",
              "    </button>\n",
              "\n",
              "  <style>\n",
              "    .colab-df-container {\n",
              "      display:flex;\n",
              "      gap: 12px;\n",
              "    }\n",
              "\n",
              "    .colab-df-convert {\n",
              "      background-color: #E8F0FE;\n",
              "      border: none;\n",
              "      border-radius: 50%;\n",
              "      cursor: pointer;\n",
              "      display: none;\n",
              "      fill: #1967D2;\n",
              "      height: 32px;\n",
              "      padding: 0 0 0 0;\n",
              "      width: 32px;\n",
              "    }\n",
              "\n",
              "    .colab-df-convert:hover {\n",
              "      background-color: #E2EBFA;\n",
              "      box-shadow: 0px 1px 2px rgba(60, 64, 67, 0.3), 0px 1px 3px 1px rgba(60, 64, 67, 0.15);\n",
              "      fill: #174EA6;\n",
              "    }\n",
              "\n",
              "    .colab-df-buttons div {\n",
              "      margin-bottom: 4px;\n",
              "    }\n",
              "\n",
              "    [theme=dark] .colab-df-convert {\n",
              "      background-color: #3B4455;\n",
              "      fill: #D2E3FC;\n",
              "    }\n",
              "\n",
              "    [theme=dark] .colab-df-convert:hover {\n",
              "      background-color: #434B5C;\n",
              "      box-shadow: 0px 1px 3px 1px rgba(0, 0, 0, 0.15);\n",
              "      filter: drop-shadow(0px 1px 2px rgba(0, 0, 0, 0.3));\n",
              "      fill: #FFFFFF;\n",
              "    }\n",
              "  </style>\n",
              "\n",
              "    <script>\n",
              "      const buttonEl =\n",
              "        document.querySelector('#df-51750bdd-6957-43b0-862d-79f774c8239e button.colab-df-convert');\n",
              "      buttonEl.style.display =\n",
              "        google.colab.kernel.accessAllowed ? 'block' : 'none';\n",
              "\n",
              "      async function convertToInteractive(key) {\n",
              "        const element = document.querySelector('#df-51750bdd-6957-43b0-862d-79f774c8239e');\n",
              "        const dataTable =\n",
              "          await google.colab.kernel.invokeFunction('convertToInteractive',\n",
              "                                                    [key], {});\n",
              "        if (!dataTable) return;\n",
              "\n",
              "        const docLinkHtml = 'Like what you see? Visit the ' +\n",
              "          '<a target=\"_blank\" href=https://colab.research.google.com/notebooks/data_table.ipynb>data table notebook</a>'\n",
              "          + ' to learn more about interactive tables.';\n",
              "        element.innerHTML = '';\n",
              "        dataTable['output_type'] = 'display_data';\n",
              "        await google.colab.output.renderOutput(dataTable, element);\n",
              "        const docLink = document.createElement('div');\n",
              "        docLink.innerHTML = docLinkHtml;\n",
              "        element.appendChild(docLink);\n",
              "      }\n",
              "    </script>\n",
              "  </div>\n",
              "\n",
              "\n",
              "<div id=\"df-20a38f04-8183-4c89-a2a1-2dce918c18f3\">\n",
              "  <button class=\"colab-df-quickchart\" onclick=\"quickchart('df-20a38f04-8183-4c89-a2a1-2dce918c18f3')\"\n",
              "            title=\"Suggest charts\"\n",
              "            style=\"display:none;\">\n",
              "\n",
              "<svg xmlns=\"http://www.w3.org/2000/svg\" height=\"24px\"viewBox=\"0 0 24 24\"\n",
              "     width=\"24px\">\n",
              "    <g>\n",
              "        <path d=\"M19 3H5c-1.1 0-2 .9-2 2v14c0 1.1.9 2 2 2h14c1.1 0 2-.9 2-2V5c0-1.1-.9-2-2-2zM9 17H7v-7h2v7zm4 0h-2V7h2v10zm4 0h-2v-4h2v4z\"/>\n",
              "    </g>\n",
              "</svg>\n",
              "  </button>\n",
              "\n",
              "<style>\n",
              "  .colab-df-quickchart {\n",
              "      --bg-color: #E8F0FE;\n",
              "      --fill-color: #1967D2;\n",
              "      --hover-bg-color: #E2EBFA;\n",
              "      --hover-fill-color: #174EA6;\n",
              "      --disabled-fill-color: #AAA;\n",
              "      --disabled-bg-color: #DDD;\n",
              "  }\n",
              "\n",
              "  [theme=dark] .colab-df-quickchart {\n",
              "      --bg-color: #3B4455;\n",
              "      --fill-color: #D2E3FC;\n",
              "      --hover-bg-color: #434B5C;\n",
              "      --hover-fill-color: #FFFFFF;\n",
              "      --disabled-bg-color: #3B4455;\n",
              "      --disabled-fill-color: #666;\n",
              "  }\n",
              "\n",
              "  .colab-df-quickchart {\n",
              "    background-color: var(--bg-color);\n",
              "    border: none;\n",
              "    border-radius: 50%;\n",
              "    cursor: pointer;\n",
              "    display: none;\n",
              "    fill: var(--fill-color);\n",
              "    height: 32px;\n",
              "    padding: 0;\n",
              "    width: 32px;\n",
              "  }\n",
              "\n",
              "  .colab-df-quickchart:hover {\n",
              "    background-color: var(--hover-bg-color);\n",
              "    box-shadow: 0 1px 2px rgba(60, 64, 67, 0.3), 0 1px 3px 1px rgba(60, 64, 67, 0.15);\n",
              "    fill: var(--button-hover-fill-color);\n",
              "  }\n",
              "\n",
              "  .colab-df-quickchart-complete:disabled,\n",
              "  .colab-df-quickchart-complete:disabled:hover {\n",
              "    background-color: var(--disabled-bg-color);\n",
              "    fill: var(--disabled-fill-color);\n",
              "    box-shadow: none;\n",
              "  }\n",
              "\n",
              "  .colab-df-spinner {\n",
              "    border: 2px solid var(--fill-color);\n",
              "    border-color: transparent;\n",
              "    border-bottom-color: var(--fill-color);\n",
              "    animation:\n",
              "      spin 1s steps(1) infinite;\n",
              "  }\n",
              "\n",
              "  @keyframes spin {\n",
              "    0% {\n",
              "      border-color: transparent;\n",
              "      border-bottom-color: var(--fill-color);\n",
              "      border-left-color: var(--fill-color);\n",
              "    }\n",
              "    20% {\n",
              "      border-color: transparent;\n",
              "      border-left-color: var(--fill-color);\n",
              "      border-top-color: var(--fill-color);\n",
              "    }\n",
              "    30% {\n",
              "      border-color: transparent;\n",
              "      border-left-color: var(--fill-color);\n",
              "      border-top-color: var(--fill-color);\n",
              "      border-right-color: var(--fill-color);\n",
              "    }\n",
              "    40% {\n",
              "      border-color: transparent;\n",
              "      border-right-color: var(--fill-color);\n",
              "      border-top-color: var(--fill-color);\n",
              "    }\n",
              "    60% {\n",
              "      border-color: transparent;\n",
              "      border-right-color: var(--fill-color);\n",
              "    }\n",
              "    80% {\n",
              "      border-color: transparent;\n",
              "      border-right-color: var(--fill-color);\n",
              "      border-bottom-color: var(--fill-color);\n",
              "    }\n",
              "    90% {\n",
              "      border-color: transparent;\n",
              "      border-bottom-color: var(--fill-color);\n",
              "    }\n",
              "  }\n",
              "</style>\n",
              "\n",
              "  <script>\n",
              "    async function quickchart(key) {\n",
              "      const quickchartButtonEl =\n",
              "        document.querySelector('#' + key + ' button');\n",
              "      quickchartButtonEl.disabled = true;  // To prevent multiple clicks.\n",
              "      quickchartButtonEl.classList.add('colab-df-spinner');\n",
              "      try {\n",
              "        const charts = await google.colab.kernel.invokeFunction(\n",
              "            'suggestCharts', [key], {});\n",
              "      } catch (error) {\n",
              "        console.error('Error during call to suggestCharts:', error);\n",
              "      }\n",
              "      quickchartButtonEl.classList.remove('colab-df-spinner');\n",
              "      quickchartButtonEl.classList.add('colab-df-quickchart-complete');\n",
              "    }\n",
              "    (() => {\n",
              "      let quickchartButtonEl =\n",
              "        document.querySelector('#df-20a38f04-8183-4c89-a2a1-2dce918c18f3 button');\n",
              "      quickchartButtonEl.style.display =\n",
              "        google.colab.kernel.accessAllowed ? 'block' : 'none';\n",
              "    })();\n",
              "  </script>\n",
              "</div>\n",
              "    </div>\n",
              "  </div>\n"
            ]
          },
          "metadata": {},
          "execution_count": 3
        }
      ]
    },
    {
      "cell_type": "code",
      "source": [
        "data1.isnull().sum()\n"
      ],
      "metadata": {
        "id": "dCcCV0UmnzjG",
        "colab": {
          "base_uri": "https://localhost:8080/"
        },
        "outputId": "ebcacbef-993f-40f5-d2b6-b8c14bac589b"
      },
      "execution_count": null,
      "outputs": [
        {
          "output_type": "execute_result",
          "data": {
            "text/plain": [
              "tokens    0\n",
              "tags      0\n",
              "dtype: int64"
            ]
          },
          "metadata": {},
          "execution_count": 4
        }
      ]
    },
    {
      "cell_type": "code",
      "source": [
        "print(\"Unique Words in corpus:\",data1['tokens'].nunique())\n",
        "print(\"Unique Tag in corpus:\",data1['tags'].nunique())"
      ],
      "metadata": {
        "id": "FEI5aT9Ao6Dz",
        "colab": {
          "base_uri": "https://localhost:8080/"
        },
        "outputId": "2a3d34af-c851-4b17-d6eb-691ee6d10d64"
      },
      "execution_count": null,
      "outputs": [
        {
          "output_type": "stream",
          "name": "stdout",
          "text": [
            "Unique Words in corpus: 34233\n",
            "Unique Tag in corpus: 24\n"
          ]
        }
      ]
    },
    {
      "cell_type": "code",
      "source": [
        "print(data1.columns)"
      ],
      "metadata": {
        "id": "X_whKCRZo9cy",
        "colab": {
          "base_uri": "https://localhost:8080/"
        },
        "outputId": "d5e44e78-2748-45ee-a51c-496abb1ee703"
      },
      "execution_count": null,
      "outputs": [
        {
          "output_type": "stream",
          "name": "stdout",
          "text": [
            "Index(['tokens', 'tags'], dtype='object')\n"
          ]
        }
      ]
    },
    {
      "cell_type": "code",
      "source": [
        "words = list(set(data1['tokens'].values))\n",
        "words.append(\"ENDPAD\")\n",
        "num_words = len(words)\n",
        "tags = list(set(data1['tags'].values))\n",
        "num_tags = len(tags)\n",
        "num_words,num_tags"
      ],
      "metadata": {
        "id": "7gZ4fn9zpJaj",
        "colab": {
          "base_uri": "https://localhost:8080/"
        },
        "outputId": "96efc83c-4be3-4311-d3be-88f576b531b6"
      },
      "execution_count": null,
      "outputs": [
        {
          "output_type": "execute_result",
          "data": {
            "text/plain": [
              "(34234, 24)"
            ]
          },
          "metadata": {},
          "execution_count": 7
        }
      ]
    },
    {
      "cell_type": "code",
      "source": [
        "import pandas as pd\n",
        "\n",
        "# Assuming 'Tag' is the column containing tags in your DataFrame\n",
        "tags = list(data1['tags'].values)\n",
        "tags.append(\"ENDPAD\")\n",
        "\n",
        "num_tags = data1['tags'].nunique()  # Number of unique tags excluding 'ENDPAD'\n",
        "tag_values = data1['tags'].unique()  # Unique tag values excluding 'ENDPAD'\n",
        "\n",
        "# Filter out 'ENDPAD' if it exists\n",
        "tag_values = [tag for tag in tag_values if tag != 'ENDPAD']\n",
        "\n",
        "print(\"Number of Tags:\", num_tags)\n",
        "print(\"Tag Values (excluding 'ENDPAD'):\", tag_values)"
      ],
      "metadata": {
        "colab": {
          "base_uri": "https://localhost:8080/"
        },
        "id": "gvT2TwRmq6kJ",
        "outputId": "4a631561-7a87-424d-ac73-8d73edfe40fa"
      },
      "execution_count": null,
      "outputs": [
        {
          "output_type": "stream",
          "name": "stdout",
          "text": [
            "Number of Tags: 24\n",
            "Tag Values (excluding 'ENDPAD'): ['NNP', 'NN', 'SYM', 'UNK', 'JJ', 'VM', 'PRP', 'QC', 'CC', 'DEM', 'RB', 'QF', 'NST', 'PSP', 'INTF', 'RP', 'QO', 'WQ', 'NEG', 'CL', 'RDP', 'UT', 'ECH', 'INJ']\n"
          ]
        }
      ]
    },
    {
      "cell_type": "code",
      "source": [
        "train_data = []\n",
        "\n",
        "for index, row in data1.iterrows():\n",
        "    text = row['tokens']\n",
        "\n",
        "    # Check if 'tags' column is NaN, and skip the row if it is\n",
        "    if pd.isna(row['tags']):\n",
        "        continue\n",
        "\n",
        "    entities = {'entities': []}\n",
        "    tags = row['tags']\n",
        "\n",
        "    start = None\n",
        "    for i, tag in enumerate(tags):\n",
        "        if tag.startswith('B-'):\n",
        "            if start is not None:\n",
        "                entities['entities'].append((start, i, tags[i-1][2:]))\n",
        "            start = i\n",
        "        elif tag.startswith('I-'):\n",
        "            continue\n",
        "        else:  # O tag or other\n",
        "            if start is not None:\n",
        "                entities['entities'].append((start, i, tags[i-1][2:]))\n",
        "            start = None\n",
        "\n",
        "    train_data.append((text, entities))\n"
      ],
      "metadata": {
        "id": "s_fPJTDwrA5B"
      },
      "execution_count": null,
      "outputs": []
    },
    {
      "cell_type": "code",
      "source": [
        "import spacy\n",
        "from spacy.training.example import Example\n",
        "\n",
        "# Assuming you have already loaded the spaCy model\n",
        "nlp = spacy.load(\"en_core_web_sm\")\n",
        "\n",
        "# Convert train_data to spaCy training examples\n",
        "training_examples = []\n",
        "for text, entities in train_data:\n",
        "    doc = nlp.make_doc(text)\n",
        "    example = Example.from_dict(doc, entities)\n",
        "    training_examples.append(example)\n",
        "\n",
        "# Update the NER model with the new training data\n",
        "ner = nlp.get_pipe(\"ner\")\n",
        "ner.update(training_examples, drop=0.5, losses={})\n",
        "\n",
        "# Save the updated model if needed\n",
        "nlp.to_disk(\"/content/output\")\n"
      ],
      "metadata": {
        "id": "UzCDxQKY1TIk"
      },
      "execution_count": null,
      "outputs": []
    },
    {
      "cell_type": "code",
      "source": [
        "# Load the updated model\n",
        "updated_nlp = spacy.load(\"/content/output\")\n",
        "\n",
        "# Example text for prediction\n",
        "new_text = \"ಹೊಸ ವರ್ಷದಲ್ಲಿ ನೀವು ಎಷ್ಟು ಚಿಕ್ಕದೊ ಅಥವಾ ದೊಡ್ಡದೊ ಆಗಲಿ, ಅದು ನಿಮ್ಮ ಪ್ರಯಾಸಗಳನ್ನು ಹೆಚ್ಚಿಸಲಿ ಮತ್ತು ಸಫಲವಾಗಿ ಹೋಗಲಿ. ನೂತನ ವರ್ಷದ ಶುಭಾಶಯಗಳು\"\n",
        "\n",
        "# Process the text with the updated model\n",
        "doc = updated_nlp(new_text)\n",
        "\n",
        "# Access entities in the processed document\n",
        "for ent in doc.ents:\n",
        "    print(f\"Entity: {ent.text}, Type: {ent.label_}\")\n"
      ],
      "metadata": {
        "colab": {
          "base_uri": "https://localhost:8080/"
        },
        "id": "uiub38iX1jWj",
        "outputId": "d19138a4-9819-4c5d-a5b9-073a4cccf38a"
      },
      "execution_count": null,
      "outputs": [
        {
          "output_type": "stream",
          "name": "stdout",
          "text": [
            "Entity: ಚಿಕ್ಕದೊ ಅಥವಾ, Type: PERSON\n"
          ]
        }
      ]
    },
    {
      "cell_type": "code",
      "source": [
        "import pandas as pd\n",
        "\n",
        "# Assuming 'Tag' is the column containing tags in your DataFrame\n",
        "tags = list(data1['tags'].values)\n",
        "tags.append(\"ENDPAD\")\n",
        "\n",
        "# Count the occurrences of each tag\n",
        "tag_counts = pd.Series(tags).value_counts()\n",
        "\n",
        "# Remove the count for 'ENDPAD' if it exists\n",
        "tag_counts = tag_counts.drop('ENDPAD', errors='ignore')\n",
        "\n",
        "# Print the total number of tags\n",
        "total_tags = tag_counts.sum()\n",
        "print(\"Total Number of Tags:\", total_tags)\n",
        "\n",
        "# Print the tag counts\n",
        "print(\"Tag Counts:\")\n",
        "print(tag_counts)"
      ],
      "metadata": {
        "id": "L-UsiunurEHD",
        "colab": {
          "base_uri": "https://localhost:8080/"
        },
        "outputId": "2c7fc607-7fc1-47dc-92de-e3c825452524"
      },
      "execution_count": null,
      "outputs": [
        {
          "output_type": "stream",
          "name": "stdout",
          "text": [
            "Total Number of Tags: 100479\n",
            "Tag Counts:\n",
            "NN      34408\n",
            "UNK     14405\n",
            "SYM     13625\n",
            "VM      10378\n",
            "NNP      6614\n",
            "JJ       4596\n",
            "PRP      4477\n",
            "QC       2884\n",
            "CC       2731\n",
            "RB       1673\n",
            "NST      1632\n",
            "DEM      1246\n",
            "QF        721\n",
            "INTF      420\n",
            "QO        314\n",
            "RP        222\n",
            "WQ         54\n",
            "NEG        31\n",
            "PSP        26\n",
            "CL         10\n",
            "RDP         4\n",
            "ECH         4\n",
            "INJ         3\n",
            "UT          1\n",
            "dtype: int64\n"
          ]
        }
      ]
    },
    {
      "cell_type": "code",
      "source": [
        "!python -m spacy download xx_ent_wiki_sm\n"
      ],
      "metadata": {
        "colab": {
          "base_uri": "https://localhost:8080/"
        },
        "id": "yJyxIgs5rG3R",
        "outputId": "80bb636e-73bb-4389-ecaf-491cabb6c35f"
      },
      "execution_count": null,
      "outputs": [
        {
          "output_type": "stream",
          "name": "stdout",
          "text": [
            "2024-01-05 13:53:49.960122: E external/local_xla/xla/stream_executor/cuda/cuda_dnn.cc:9261] Unable to register cuDNN factory: Attempting to register factory for plugin cuDNN when one has already been registered\n",
            "2024-01-05 13:53:49.960168: E external/local_xla/xla/stream_executor/cuda/cuda_fft.cc:607] Unable to register cuFFT factory: Attempting to register factory for plugin cuFFT when one has already been registered\n",
            "2024-01-05 13:53:49.960966: E external/local_xla/xla/stream_executor/cuda/cuda_blas.cc:1515] Unable to register cuBLAS factory: Attempting to register factory for plugin cuBLAS when one has already been registered\n",
            "2024-01-05 13:53:50.839560: W tensorflow/compiler/tf2tensorrt/utils/py_utils.cc:38] TF-TRT Warning: Could not find TensorRT\n",
            "Collecting xx-ent-wiki-sm==3.6.0\n",
            "  Downloading https://github.com/explosion/spacy-models/releases/download/xx_ent_wiki_sm-3.6.0/xx_ent_wiki_sm-3.6.0-py3-none-any.whl (11.1 MB)\n",
            "\u001b[2K     \u001b[90m━━━━━━━━━━━━━━━━━━━━━━━━━━━━━━━━━━━━━━━━\u001b[0m \u001b[32m11.1/11.1 MB\u001b[0m \u001b[31m38.3 MB/s\u001b[0m eta \u001b[36m0:00:00\u001b[0m\n",
            "\u001b[?25hRequirement already satisfied: spacy<3.7.0,>=3.6.0 in /usr/local/lib/python3.10/dist-packages (from xx-ent-wiki-sm==3.6.0) (3.6.1)\n",
            "Requirement already satisfied: spacy-legacy<3.1.0,>=3.0.11 in /usr/local/lib/python3.10/dist-packages (from spacy<3.7.0,>=3.6.0->xx-ent-wiki-sm==3.6.0) (3.0.12)\n",
            "Requirement already satisfied: spacy-loggers<2.0.0,>=1.0.0 in /usr/local/lib/python3.10/dist-packages (from spacy<3.7.0,>=3.6.0->xx-ent-wiki-sm==3.6.0) (1.0.5)\n",
            "Requirement already satisfied: murmurhash<1.1.0,>=0.28.0 in /usr/local/lib/python3.10/dist-packages (from spacy<3.7.0,>=3.6.0->xx-ent-wiki-sm==3.6.0) (1.0.10)\n",
            "Requirement already satisfied: cymem<2.1.0,>=2.0.2 in /usr/local/lib/python3.10/dist-packages (from spacy<3.7.0,>=3.6.0->xx-ent-wiki-sm==3.6.0) (2.0.8)\n",
            "Requirement already satisfied: preshed<3.1.0,>=3.0.2 in /usr/local/lib/python3.10/dist-packages (from spacy<3.7.0,>=3.6.0->xx-ent-wiki-sm==3.6.0) (3.0.9)\n",
            "Requirement already satisfied: thinc<8.2.0,>=8.1.8 in /usr/local/lib/python3.10/dist-packages (from spacy<3.7.0,>=3.6.0->xx-ent-wiki-sm==3.6.0) (8.1.12)\n",
            "Requirement already satisfied: wasabi<1.2.0,>=0.9.1 in /usr/local/lib/python3.10/dist-packages (from spacy<3.7.0,>=3.6.0->xx-ent-wiki-sm==3.6.0) (1.1.2)\n",
            "Requirement already satisfied: srsly<3.0.0,>=2.4.3 in /usr/local/lib/python3.10/dist-packages (from spacy<3.7.0,>=3.6.0->xx-ent-wiki-sm==3.6.0) (2.4.8)\n",
            "Requirement already satisfied: catalogue<2.1.0,>=2.0.6 in /usr/local/lib/python3.10/dist-packages (from spacy<3.7.0,>=3.6.0->xx-ent-wiki-sm==3.6.0) (2.0.10)\n",
            "Requirement already satisfied: typer<0.10.0,>=0.3.0 in /usr/local/lib/python3.10/dist-packages (from spacy<3.7.0,>=3.6.0->xx-ent-wiki-sm==3.6.0) (0.9.0)\n",
            "Requirement already satisfied: pathy>=0.10.0 in /usr/local/lib/python3.10/dist-packages (from spacy<3.7.0,>=3.6.0->xx-ent-wiki-sm==3.6.0) (0.10.3)\n",
            "Requirement already satisfied: smart-open<7.0.0,>=5.2.1 in /usr/local/lib/python3.10/dist-packages (from spacy<3.7.0,>=3.6.0->xx-ent-wiki-sm==3.6.0) (6.4.0)\n",
            "Requirement already satisfied: tqdm<5.0.0,>=4.38.0 in /usr/local/lib/python3.10/dist-packages (from spacy<3.7.0,>=3.6.0->xx-ent-wiki-sm==3.6.0) (4.66.1)\n",
            "Requirement already satisfied: numpy>=1.15.0 in /usr/local/lib/python3.10/dist-packages (from spacy<3.7.0,>=3.6.0->xx-ent-wiki-sm==3.6.0) (1.23.5)\n",
            "Requirement already satisfied: requests<3.0.0,>=2.13.0 in /usr/local/lib/python3.10/dist-packages (from spacy<3.7.0,>=3.6.0->xx-ent-wiki-sm==3.6.0) (2.31.0)\n",
            "Requirement already satisfied: pydantic!=1.8,!=1.8.1,<3.0.0,>=1.7.4 in /usr/local/lib/python3.10/dist-packages (from spacy<3.7.0,>=3.6.0->xx-ent-wiki-sm==3.6.0) (1.10.13)\n",
            "Requirement already satisfied: jinja2 in /usr/local/lib/python3.10/dist-packages (from spacy<3.7.0,>=3.6.0->xx-ent-wiki-sm==3.6.0) (3.1.2)\n",
            "Requirement already satisfied: setuptools in /usr/local/lib/python3.10/dist-packages (from spacy<3.7.0,>=3.6.0->xx-ent-wiki-sm==3.6.0) (67.7.2)\n",
            "Requirement already satisfied: packaging>=20.0 in /usr/local/lib/python3.10/dist-packages (from spacy<3.7.0,>=3.6.0->xx-ent-wiki-sm==3.6.0) (23.2)\n",
            "Requirement already satisfied: langcodes<4.0.0,>=3.2.0 in /usr/local/lib/python3.10/dist-packages (from spacy<3.7.0,>=3.6.0->xx-ent-wiki-sm==3.6.0) (3.3.0)\n",
            "Requirement already satisfied: typing-extensions>=4.2.0 in /usr/local/lib/python3.10/dist-packages (from pydantic!=1.8,!=1.8.1,<3.0.0,>=1.7.4->spacy<3.7.0,>=3.6.0->xx-ent-wiki-sm==3.6.0) (4.5.0)\n",
            "Requirement already satisfied: charset-normalizer<4,>=2 in /usr/local/lib/python3.10/dist-packages (from requests<3.0.0,>=2.13.0->spacy<3.7.0,>=3.6.0->xx-ent-wiki-sm==3.6.0) (3.3.2)\n",
            "Requirement already satisfied: idna<4,>=2.5 in /usr/local/lib/python3.10/dist-packages (from requests<3.0.0,>=2.13.0->spacy<3.7.0,>=3.6.0->xx-ent-wiki-sm==3.6.0) (3.6)\n",
            "Requirement already satisfied: urllib3<3,>=1.21.1 in /usr/local/lib/python3.10/dist-packages (from requests<3.0.0,>=2.13.0->spacy<3.7.0,>=3.6.0->xx-ent-wiki-sm==3.6.0) (2.0.7)\n",
            "Requirement already satisfied: certifi>=2017.4.17 in /usr/local/lib/python3.10/dist-packages (from requests<3.0.0,>=2.13.0->spacy<3.7.0,>=3.6.0->xx-ent-wiki-sm==3.6.0) (2023.11.17)\n",
            "Requirement already satisfied: blis<0.8.0,>=0.7.8 in /usr/local/lib/python3.10/dist-packages (from thinc<8.2.0,>=8.1.8->spacy<3.7.0,>=3.6.0->xx-ent-wiki-sm==3.6.0) (0.7.11)\n",
            "Requirement already satisfied: confection<1.0.0,>=0.0.1 in /usr/local/lib/python3.10/dist-packages (from thinc<8.2.0,>=8.1.8->spacy<3.7.0,>=3.6.0->xx-ent-wiki-sm==3.6.0) (0.1.4)\n",
            "Requirement already satisfied: click<9.0.0,>=7.1.1 in /usr/local/lib/python3.10/dist-packages (from typer<0.10.0,>=0.3.0->spacy<3.7.0,>=3.6.0->xx-ent-wiki-sm==3.6.0) (8.1.7)\n",
            "Requirement already satisfied: MarkupSafe>=2.0 in /usr/local/lib/python3.10/dist-packages (from jinja2->spacy<3.7.0,>=3.6.0->xx-ent-wiki-sm==3.6.0) (2.1.3)\n",
            "Installing collected packages: xx-ent-wiki-sm\n",
            "Successfully installed xx-ent-wiki-sm-3.6.0\n",
            "\u001b[38;5;2m✔ Download and installation successful\u001b[0m\n",
            "You can now load the package via spacy.load('xx_ent_wiki_sm')\n"
          ]
        }
      ]
    },
    {
      "cell_type": "code",
      "source": [
        "import spacy.cli\n",
        "spacy.cli.download(\"en_core_web_sm\")"
      ],
      "metadata": {
        "colab": {
          "base_uri": "https://localhost:8080/"
        },
        "id": "5c-OIe9srJiG",
        "outputId": "43a12025-e1fc-4145-abe5-5e85ba0495cf"
      },
      "execution_count": null,
      "outputs": [
        {
          "output_type": "stream",
          "name": "stdout",
          "text": [
            "\u001b[38;5;2m✔ Download and installation successful\u001b[0m\n",
            "You can now load the package via spacy.load('en_core_web_sm')\n"
          ]
        }
      ]
    },
    {
      "cell_type": "code",
      "source": [
        "!python -m spacy download en_core_web_sm"
      ],
      "metadata": {
        "colab": {
          "base_uri": "https://localhost:8080/"
        },
        "id": "uY7spumDrScH",
        "outputId": "a23a4d35-aa0c-4487-d723-0913b858f32b"
      },
      "execution_count": null,
      "outputs": [
        {
          "output_type": "stream",
          "name": "stdout",
          "text": [
            "2024-01-05 13:54:08.150968: E external/local_xla/xla/stream_executor/cuda/cuda_dnn.cc:9261] Unable to register cuDNN factory: Attempting to register factory for plugin cuDNN when one has already been registered\n",
            "2024-01-05 13:54:08.151019: E external/local_xla/xla/stream_executor/cuda/cuda_fft.cc:607] Unable to register cuFFT factory: Attempting to register factory for plugin cuFFT when one has already been registered\n",
            "2024-01-05 13:54:08.152044: E external/local_xla/xla/stream_executor/cuda/cuda_blas.cc:1515] Unable to register cuBLAS factory: Attempting to register factory for plugin cuBLAS when one has already been registered\n",
            "Traceback (most recent call last):\n",
            "  File \"/usr/lib/python3.10/runpy.py\", line 187, in _run_module_as_main\n",
            "    mod_name, mod_spec, code = _get_module_details(mod_name, _Error)\n",
            "  File \"/usr/lib/python3.10/runpy.py\", line 146, in _get_module_details\n",
            "    return _get_module_details(pkg_main_name, error)\n",
            "  File \"/usr/lib/python3.10/runpy.py\", line 110, in _get_module_details\n",
            "    __import__(pkg_name)\n",
            "  File \"/usr/local/lib/python3.10/dist-packages/spacy/__init__.py\", line 6, in <module>\n",
            "    from .errors import setup_default_warnings\n",
            "  File \"/usr/local/lib/python3.10/dist-packages/spacy/errors.py\", line 3, in <module>\n",
            "    from .compat import Literal\n",
            "  File \"/usr/local/lib/python3.10/dist-packages/spacy/compat.py\", line 4, in <module>\n",
            "    from thinc.util import copy_array\n",
            "  File \"/usr/local/lib/python3.10/dist-packages/thinc/__init__.py\", line 5, in <module>\n",
            "    from .config import registry\n",
            "  File \"/usr/local/lib/python3.10/dist-packages/thinc/config.py\", line 5, in <module>\n",
            "    from .types import Decorator\n",
            "  File \"/usr/local/lib/python3.10/dist-packages/thinc/types.py\", line 25, in <module>\n",
            "    from .compat import cupy, has_cupy\n",
            "  File \"/usr/local/lib/python3.10/dist-packages/thinc/compat.py\", line 54, in <module>\n",
            "    import tensorflow\n",
            "  File \"/usr/local/lib/python3.10/dist-packages/tensorflow/__init__.py\", line 48, in <module>\n",
            "    from tensorflow._api.v2 import __internal__\n",
            "  File \"/usr/local/lib/python3.10/dist-packages/tensorflow/_api/v2/__internal__/__init__.py\", line 8, in <module>\n",
            "    from tensorflow._api.v2.__internal__ import autograph\n",
            "  File \"/usr/local/lib/python3.10/dist-packages/tensorflow/_api/v2/__internal__/autograph/__init__.py\", line 8, in <module>\n",
            "    from tensorflow.python.autograph.core.ag_ctx import control_status_ctx # line: 34\n",
            "  File \"/usr/local/lib/python3.10/dist-packages/tensorflow/python/autograph/core/ag_ctx.py\", line 21, in <module>\n",
            "    from tensorflow.python.autograph.utils import ag_logging\n",
            "  File \"/usr/local/lib/python3.10/dist-packages/tensorflow/python/autograph/utils/__init__.py\", line 17, in <module>\n",
            "    from tensorflow.python.autograph.utils.context_managers import control_dependency_on_returns\n",
            "  File \"/usr/local/lib/python3.10/dist-packages/tensorflow/python/autograph/utils/context_managers.py\", line 19, in <module>\n",
            "    from tensorflow.python.framework import ops\n",
            "  File \"/usr/local/lib/python3.10/dist-packages/tensorflow/python/framework/ops.py\", line 40, in <module>\n",
            "    from tensorflow.python import pywrap_tensorflow\n",
            "  File \"/usr/local/lib/python3.10/dist-packages/tensorflow/python/pywrap_tensorflow.py\", line 34, in <module>\n",
            "    self_check.preload_check()\n",
            "  File \"/usr/local/lib/python3.10/dist-packages/tensorflow/python/platform/self_check.py\", line 63, in preload_check\n",
            "    from tensorflow.python.platform import _pywrap_cpu_feature_guard\n",
            "KeyboardInterrupt\n",
            "^C\n"
          ]
        }
      ]
    },
    {
      "cell_type": "code",
      "source": [
        "import spacy\n",
        "# Load the small multilingual spaCy model\n",
        "nlp = spacy.load(\"xx_ent_wiki_sm\")"
      ],
      "metadata": {
        "id": "Ig9ntYvirhgT"
      },
      "execution_count": null,
      "outputs": []
    },
    {
      "cell_type": "code",
      "source": [
        "# Specify the name of the new directory\n",
        "new_directory_name = 'output'\n",
        "# Create the new directory\n",
        "!mkdir $new_directory_name\n"
      ],
      "metadata": {
        "id": "O0QcAYUnrkUx",
        "colab": {
          "base_uri": "https://localhost:8080/"
        },
        "outputId": "8eb75497-1664-4e39-9568-e9949f5f2af0"
      },
      "execution_count": null,
      "outputs": [
        {
          "output_type": "stream",
          "name": "stdout",
          "text": [
            "mkdir: cannot create directory ‘output’: File exists\n"
          ]
        }
      ]
    },
    {
      "cell_type": "code",
      "source": [
        "spacy.prefer_gpu()"
      ],
      "metadata": {
        "colab": {
          "base_uri": "https://localhost:8080/"
        },
        "id": "gY50lZgortIX",
        "outputId": "d825abff-ce38-46f4-b733-bdacde968d48"
      },
      "execution_count": null,
      "outputs": [
        {
          "output_type": "execute_result",
          "data": {
            "text/plain": [
              "False"
            ]
          },
          "metadata": {},
          "execution_count": 21
        }
      ]
    },
    {
      "cell_type": "code",
      "source": [
        "# Import necessary libraries\n",
        "import spacy\n",
        "\n",
        "# Load the spaCy model (replace 'en_core_web_sm' with the appropriate model)\n",
        "nlp = spacy.load('en_core_web_sm')\n",
        "\n",
        "# Define the number of training iterations\n",
        "num_iterations = 100  # Adjust this number as needed\n",
        "\n",
        "# Get the ner component of the pipeline\n",
        "ner = nlp.get_pipe(\"ner\")\n",
        "\n",
        "# Prepare and format training data (replace train_data with your actual training data)\n",
        "train_data = [\n",
        "    (\"Your text here\", {\"entities\": [(0, 4, \"LABEL\")]}),\n",
        "    # Add more examples as needed\n",
        "]\n",
        "\n",
        "# Train the model\n",
        "# Train the model\n",
        "for iteration in range(num_iterations):\n",
        "    # Iterate over the training data\n",
        "    for text, annotations in train_data:\n",
        "        # Update the Named Entity Recognition model\n",
        "        example = spacy.training.example.Example.from_dict(nlp.make_doc(text), annotations)\n",
        "        nlp.update([example], drop=0.5)\n",
        "\n",
        "    # Print some information after each iteration\n",
        "    print(f\"Iteration {iteration + 1} completed.\")\n",
        "\n",
        "# Save the trained model to a file\n",
        "nlp.to_disk(\"output_model\")\n",
        "print(\"Training completed. Model saved.\")\n",
        "\n"
      ],
      "metadata": {
        "colab": {
          "base_uri": "https://localhost:8080/"
        },
        "id": "UQVxycU5rvXA",
        "outputId": "48929df1-fc47-48d5-cfd2-f5f683b6282b"
      },
      "execution_count": null,
      "outputs": [
        {
          "output_type": "stream",
          "name": "stdout",
          "text": [
            "Iteration 1 completed.\n",
            "Iteration 2 completed.\n",
            "Iteration 3 completed.\n",
            "Iteration 4 completed.\n",
            "Iteration 5 completed.\n",
            "Iteration 6 completed.\n",
            "Iteration 7 completed.\n",
            "Iteration 8 completed.\n",
            "Iteration 9 completed.\n",
            "Iteration 10 completed.\n",
            "Iteration 11 completed.\n",
            "Iteration 12 completed.\n",
            "Iteration 13 completed.\n",
            "Iteration 14 completed.\n",
            "Iteration 15 completed.\n",
            "Iteration 16 completed.\n",
            "Iteration 17 completed.\n",
            "Iteration 18 completed.\n",
            "Iteration 19 completed.\n",
            "Iteration 20 completed.\n",
            "Iteration 21 completed.\n",
            "Iteration 22 completed.\n",
            "Iteration 23 completed.\n",
            "Iteration 24 completed.\n",
            "Iteration 25 completed.\n",
            "Iteration 26 completed.\n",
            "Iteration 27 completed.\n",
            "Iteration 28 completed.\n",
            "Iteration 29 completed.\n",
            "Iteration 30 completed.\n",
            "Iteration 31 completed.\n",
            "Iteration 32 completed.\n",
            "Iteration 33 completed.\n",
            "Iteration 34 completed.\n",
            "Iteration 35 completed.\n",
            "Iteration 36 completed.\n",
            "Iteration 37 completed.\n",
            "Iteration 38 completed.\n",
            "Iteration 39 completed.\n",
            "Iteration 40 completed.\n",
            "Iteration 41 completed.\n",
            "Iteration 42 completed.\n",
            "Iteration 43 completed.\n",
            "Iteration 44 completed.\n",
            "Iteration 45 completed.\n",
            "Iteration 46 completed.\n",
            "Iteration 47 completed.\n",
            "Iteration 48 completed.\n",
            "Iteration 49 completed.\n",
            "Iteration 50 completed.\n",
            "Iteration 51 completed.\n",
            "Iteration 52 completed.\n",
            "Iteration 53 completed.\n",
            "Iteration 54 completed.\n",
            "Iteration 55 completed.\n",
            "Iteration 56 completed.\n",
            "Iteration 57 completed.\n",
            "Iteration 58 completed.\n",
            "Iteration 59 completed.\n",
            "Iteration 60 completed.\n",
            "Iteration 61 completed.\n",
            "Iteration 62 completed.\n",
            "Iteration 63 completed.\n",
            "Iteration 64 completed.\n",
            "Iteration 65 completed.\n",
            "Iteration 66 completed.\n",
            "Iteration 67 completed.\n",
            "Iteration 68 completed.\n",
            "Iteration 69 completed.\n",
            "Iteration 70 completed.\n",
            "Iteration 71 completed.\n",
            "Iteration 72 completed.\n",
            "Iteration 73 completed.\n",
            "Iteration 74 completed.\n",
            "Iteration 75 completed.\n",
            "Iteration 76 completed.\n",
            "Iteration 77 completed.\n",
            "Iteration 78 completed.\n",
            "Iteration 79 completed.\n",
            "Iteration 80 completed.\n",
            "Iteration 81 completed.\n",
            "Iteration 82 completed.\n",
            "Iteration 83 completed.\n",
            "Iteration 84 completed.\n",
            "Iteration 85 completed.\n",
            "Iteration 86 completed.\n",
            "Iteration 87 completed.\n",
            "Iteration 88 completed.\n",
            "Iteration 89 completed.\n",
            "Iteration 90 completed.\n",
            "Iteration 91 completed.\n",
            "Iteration 92 completed.\n",
            "Iteration 93 completed.\n",
            "Iteration 94 completed.\n",
            "Iteration 95 completed.\n",
            "Iteration 96 completed.\n",
            "Iteration 97 completed.\n",
            "Iteration 98 completed.\n",
            "Iteration 99 completed.\n",
            "Iteration 100 completed.\n",
            "Training completed. Model saved.\n"
          ]
        }
      ]
    },
    {
      "cell_type": "code",
      "source": [
        "# Load the trained model from disk\n",
        "nlp = spacy.load(\"output_model\")\n",
        "\n",
        "# Test the trained model on new text\n",
        "test_text = \"Your test text here\"\n",
        "doc = nlp(test_text)\n",
        "\n",
        "# Print recognized entities and their labels\n",
        "for ent in doc.ents:\n",
        "    print(f\"Entity: {ent.text}, Label: {ent.label_}\")\n"
      ],
      "metadata": {
        "colab": {
          "base_uri": "https://localhost:8080/"
        },
        "id": "KgEm4OxQryc-",
        "outputId": "280142a3-4c79-4d2b-b69b-b69fbf85f00e"
      },
      "execution_count": null,
      "outputs": [
        {
          "output_type": "stream",
          "name": "stdout",
          "text": [
            "Entity: Your, Label: LABEL\n"
          ]
        }
      ]
    },
    {
      "cell_type": "code",
      "source": [
        "text = \"ಹೊಸ ವರ್ಷದಲ್ಲಿ ನೀವು ಎಷ್ಟು ಚಿಕ್ಕದೊ ಅಥವಾ ದೊಡ್ಡದೊ ಆಗಲಿ, ಅದು ನಿಮ್ಮ ಪ್ರಯಾಸಗಳನ್ನು ಹೆಚ್ಚಿಸಲಿ ಮತ್ತು ಸಫಲವಾಗಿ ಹೋಗಲಿ. ನೂತನ ವರ್ಷದ ಶುಭಾಶಯಗಳು\"\n",
        "doc = nlp(text)\n",
        "for ent in doc.ents:\n",
        "    print(ent.text, ent.label_)"
      ],
      "metadata": {
        "colab": {
          "base_uri": "https://localhost:8080/"
        },
        "id": "2Lh5micWr2Hp",
        "outputId": "2cba45c5-e6d6-4d43-b16f-1d60e6a083d4"
      },
      "execution_count": null,
      "outputs": [
        {
          "output_type": "stream",
          "name": "stdout",
          "text": [
            "ಚಿಕ್ಕದೊ ಅಥವಾ PERSON\n"
          ]
        }
      ]
    },
    {
      "cell_type": "code",
      "source": [
        "!pip install googletrans==4.0.0-rc1\n"
      ],
      "metadata": {
        "colab": {
          "base_uri": "https://localhost:8080/",
          "height": 949
        },
        "id": "f7lSWIjVr8y4",
        "outputId": "e8cd4754-9324-4df4-a9ce-f7f35dff7580"
      },
      "execution_count": null,
      "outputs": [
        {
          "output_type": "stream",
          "name": "stdout",
          "text": [
            "Collecting googletrans==4.0.0-rc1\n",
            "  Downloading googletrans-4.0.0rc1.tar.gz (20 kB)\n",
            "  Preparing metadata (setup.py) ... \u001b[?25l\u001b[?25hdone\n",
            "Collecting httpx==0.13.3 (from googletrans==4.0.0-rc1)\n",
            "  Downloading httpx-0.13.3-py3-none-any.whl (55 kB)\n",
            "\u001b[2K     \u001b[90m━━━━━━━━━━━━━━━━━━━━━━━━━━━━━━━━━━━━━━━━\u001b[0m \u001b[32m55.1/55.1 kB\u001b[0m \u001b[31m3.5 MB/s\u001b[0m eta \u001b[36m0:00:00\u001b[0m\n",
            "\u001b[?25hRequirement already satisfied: certifi in /usr/local/lib/python3.10/dist-packages (from httpx==0.13.3->googletrans==4.0.0-rc1) (2023.11.17)\n",
            "Collecting hstspreload (from httpx==0.13.3->googletrans==4.0.0-rc1)\n",
            "  Downloading hstspreload-2024.1.5-py3-none-any.whl (1.1 MB)\n",
            "\u001b[2K     \u001b[90m━━━━━━━━━━━━━━━━━━━━━━━━━━━━━━━━━━━━━━━━\u001b[0m \u001b[32m1.1/1.1 MB\u001b[0m \u001b[31m12.4 MB/s\u001b[0m eta \u001b[36m0:00:00\u001b[0m\n",
            "\u001b[?25hRequirement already satisfied: sniffio in /usr/local/lib/python3.10/dist-packages (from httpx==0.13.3->googletrans==4.0.0-rc1) (1.3.0)\n",
            "Collecting chardet==3.* (from httpx==0.13.3->googletrans==4.0.0-rc1)\n",
            "  Downloading chardet-3.0.4-py2.py3-none-any.whl (133 kB)\n",
            "\u001b[2K     \u001b[90m━━━━━━━━━━━━━━━━━━━━━━━━━━━━━━━━━━━━━━━━\u001b[0m \u001b[32m133.4/133.4 kB\u001b[0m \u001b[31m13.2 MB/s\u001b[0m eta \u001b[36m0:00:00\u001b[0m\n",
            "\u001b[?25hCollecting idna==2.* (from httpx==0.13.3->googletrans==4.0.0-rc1)\n",
            "  Downloading idna-2.10-py2.py3-none-any.whl (58 kB)\n",
            "\u001b[2K     \u001b[90m━━━━━━━━━━━━━━━━━━━━━━━━━━━━━━━━━━━━━━━━\u001b[0m \u001b[32m58.8/58.8 kB\u001b[0m \u001b[31m9.7 MB/s\u001b[0m eta \u001b[36m0:00:00\u001b[0m\n",
            "\u001b[?25hCollecting rfc3986<2,>=1.3 (from httpx==0.13.3->googletrans==4.0.0-rc1)\n",
            "  Downloading rfc3986-1.5.0-py2.py3-none-any.whl (31 kB)\n",
            "Collecting httpcore==0.9.* (from httpx==0.13.3->googletrans==4.0.0-rc1)\n",
            "  Downloading httpcore-0.9.1-py3-none-any.whl (42 kB)\n",
            "\u001b[2K     \u001b[90m━━━━━━━━━━━━━━━━━━━━━━━━━━━━━━━━━━━━━━━━\u001b[0m \u001b[32m42.6/42.6 kB\u001b[0m \u001b[31m6.8 MB/s\u001b[0m eta \u001b[36m0:00:00\u001b[0m\n",
            "\u001b[?25hCollecting h11<0.10,>=0.8 (from httpcore==0.9.*->httpx==0.13.3->googletrans==4.0.0-rc1)\n",
            "  Downloading h11-0.9.0-py2.py3-none-any.whl (53 kB)\n",
            "\u001b[2K     \u001b[90m━━━━━━━━━━━━━━━━━━━━━━━━━━━━━━━━━━━━━━━━\u001b[0m \u001b[32m53.6/53.6 kB\u001b[0m \u001b[31m8.9 MB/s\u001b[0m eta \u001b[36m0:00:00\u001b[0m\n",
            "\u001b[?25hCollecting h2==3.* (from httpcore==0.9.*->httpx==0.13.3->googletrans==4.0.0-rc1)\n",
            "  Downloading h2-3.2.0-py2.py3-none-any.whl (65 kB)\n",
            "\u001b[2K     \u001b[90m━━━━━━━━━━━━━━━━━━━━━━━━━━━━━━━━━━━━━━━━\u001b[0m \u001b[32m65.0/65.0 kB\u001b[0m \u001b[31m10.7 MB/s\u001b[0m eta \u001b[36m0:00:00\u001b[0m\n",
            "\u001b[?25hCollecting hyperframe<6,>=5.2.0 (from h2==3.*->httpcore==0.9.*->httpx==0.13.3->googletrans==4.0.0-rc1)\n",
            "  Downloading hyperframe-5.2.0-py2.py3-none-any.whl (12 kB)\n",
            "Collecting hpack<4,>=3.0 (from h2==3.*->httpcore==0.9.*->httpx==0.13.3->googletrans==4.0.0-rc1)\n",
            "  Downloading hpack-3.0.0-py2.py3-none-any.whl (38 kB)\n",
            "Building wheels for collected packages: googletrans\n",
            "  Building wheel for googletrans (setup.py) ... \u001b[?25l\u001b[?25hdone\n",
            "  Created wheel for googletrans: filename=googletrans-4.0.0rc1-py3-none-any.whl size=17396 sha256=2600b174792798a6484bae5b29ec2b2c124e2f3211833434e9fbe76e6a9cf7c8\n",
            "  Stored in directory: /root/.cache/pip/wheels/c0/59/9f/7372f0cf70160fe61b528532e1a7c8498c4becd6bcffb022de\n",
            "Successfully built googletrans\n",
            "Installing collected packages: rfc3986, hyperframe, hpack, h11, chardet, idna, hstspreload, h2, httpcore, httpx, googletrans\n",
            "  Attempting uninstall: chardet\n",
            "    Found existing installation: chardet 5.2.0\n",
            "    Uninstalling chardet-5.2.0:\n",
            "      Successfully uninstalled chardet-5.2.0\n",
            "  Attempting uninstall: idna\n",
            "    Found existing installation: idna 3.6\n",
            "    Uninstalling idna-3.6:\n",
            "      Successfully uninstalled idna-3.6\n",
            "Successfully installed chardet-3.0.4 googletrans-4.0.0rc1 h11-0.9.0 h2-3.2.0 hpack-3.0.0 hstspreload-2024.1.5 httpcore-0.9.1 httpx-0.13.3 hyperframe-5.2.0 idna-2.10 rfc3986-1.5.0\n"
          ]
        },
        {
          "output_type": "display_data",
          "data": {
            "application/vnd.colab-display-data+json": {
              "pip_warning": {
                "packages": [
                  "chardet",
                  "idna"
                ]
              }
            }
          },
          "metadata": {}
        }
      ]
    },
    {
      "cell_type": "code",
      "source": [
        "from googletrans import Translator\n",
        "\n",
        "def translate_hindi_to_english(hindi_text):\n",
        "    # Create a Translator object\n",
        "    translator = Translator()\n",
        "\n",
        "    # Translate Hindi text to English\n",
        "    translation = translator.translate(hindi_text, src='hi', dest='en')\n",
        "\n",
        "    # Return the translated text\n",
        "    return translation.text\n",
        "\n",
        "# Example Hindi text\n",
        "hindi_text = \"ಹೊಸ ವರ್ಷದಲ್ಲಿ ನೀವು ಎಷ್ಟು ಚಿಕ್ಕದೊ ಅಥವಾ ದೊಡ್ಡದೊ ಆಗಲಿ, ಅದು ನಿಮ್ಮ ಪ್ರಯಾಸಗಳನ್ನು ಹೆಚ್ಚಿಸಲಿ ಮತ್ತು ಸಫಲವಾಗಿ ಹೋಗಲಿ. ನೂತನ ವರ್ಷದ ಶುಭಾಶಯಗಳು\"\n",
        "\n",
        "# Translate Hindi to English\n",
        "english_translation = translate_hindi_to_english(hindi_text)\n",
        "\n",
        "# Print the results\n",
        "print(\"Hindi:\", hindi_text)\n",
        "print(\"English Translation:\", english_translation)\n"
      ],
      "metadata": {
        "colab": {
          "base_uri": "https://localhost:8080/"
        },
        "id": "sAa3g9X6r9j7",
        "outputId": "a980dd4e-77e0-4b35-e828-5aaeb9b79cc5"
      },
      "execution_count": null,
      "outputs": [
        {
          "output_type": "stream",
          "name": "stdout",
          "text": [
            "Hindi: ಹೊಸ ವರ್ಷದಲ್ಲಿ ನೀವು ಎಷ್ಟು ಚಿಕ್ಕದೊ ಅಥವಾ ದೊಡ್ಡದೊ ಆಗಲಿ, ಅದು ನಿಮ್ಮ ಪ್ರಯಾಸಗಳನ್ನು ಹೆಚ್ಚಿಸಲಿ ಮತ್ತು ಸಫಲವಾಗಿ ಹೋಗಲಿ. ನೂತನ ವರ್ಷದ ಶುಭಾಶಯಗಳು\n",
            "English Translation: ಹೊ ವರ ವರ ನೀವು ನೀವು ಎಷ ಎಷಟು ಚಿಅಥವ ಅಥವಾ ದೊಡದೊಡ ಆಗಲಿ, ಅದು ನಿಮ ನಿಮ ನಿಮನಿಮ ಪ್ನು ಗಳನ್ನು ಹೆಚಹೆಚ ಮತಮತ ಫಲವ ಹೋಗಲಿ ಹೋಗಲಿ.ನೂತನ ವರ್ಷದ ಶುಭಾಶಯಗಳು\n"
          ]
        }
      ]
    },
    {
      "cell_type": "code",
      "source": [
        "import spacy\n",
        "from spacy import displacy\n",
        "\n",
        "NER = spacy.load(\"en_core_web_sm\")"
      ],
      "metadata": {
        "id": "dWUdn8wa9UP0"
      },
      "execution_count": null,
      "outputs": []
    },
    {
      "cell_type": "code",
      "source": [
        "raw_text=english_translation\n",
        "text1= NER(raw_text)"
      ],
      "metadata": {
        "id": "0KFlLtnR_p20"
      },
      "execution_count": null,
      "outputs": []
    },
    {
      "cell_type": "code",
      "source": [
        "for word in text1.ents:\n",
        "    print(word.text,word.label_)"
      ],
      "metadata": {
        "id": "v1P9XH3b_7FB"
      },
      "execution_count": null,
      "outputs": []
    },
    {
      "cell_type": "code",
      "source": [
        "import spacy\n",
        "\n",
        "def custom_entity_recognition(text):\n",
        "    nlp = spacy.load(\"en_core_web_sm\")\n",
        "    doc = nlp(text)\n",
        "\n",
        "    # Print detailed information for each token\n",
        "    for token in doc:\n",
        "        print(f\"Word: {token.text}, POS: {token.pos_}\")\n",
        "\n",
        "# Example sentence\n",
        "sentence = english_translation\n",
        "\n",
        "# Perform custom entity recognition\n",
        "custom_entity_recognition(sentence)\n"
      ],
      "metadata": {
        "colab": {
          "base_uri": "https://localhost:8080/"
        },
        "id": "P0NQIa1Iy-jK",
        "outputId": "5e044459-2da2-44f9-ed4a-73d228b1e58b"
      },
      "execution_count": null,
      "outputs": [
        {
          "output_type": "stream",
          "name": "stdout",
          "text": [
            "Word: ಹೊ, POS: PROPN\n",
            "Word: ವರ, POS: PROPN\n",
            "Word: ವರ, POS: NOUN\n",
            "Word: ನೀವು, POS: PROPN\n",
            "Word: ನೀವು, POS: PROPN\n",
            "Word: ಎಷ, POS: PROPN\n",
            "Word: ಎಷಟು, POS: PROPN\n",
            "Word: ಚಿಅಥವ, POS: PUNCT\n",
            "Word: ಅಥವಾ, POS: PROPN\n",
            "Word: ದೊಡದೊಡ, POS: PROPN\n",
            "Word: ಆಗಲಿ, POS: PROPN\n",
            "Word: ,, POS: PUNCT\n",
            "Word: ಅದು, POS: PROPN\n",
            "Word: ನಿಮ, POS: NOUN\n",
            "Word: ನಿಮ, POS: PUNCT\n",
            "Word: ನಿಮನಿಮ, POS: PUNCT\n",
            "Word: ಪ್ನು, POS: PUNCT\n",
            "Word: ಗಳನ್ನು, POS: PUNCT\n",
            "Word: ಹೆಚಹೆಚ, POS: PROPN\n",
            "Word: ಮತಮತ, POS: PROPN\n",
            "Word: ಫಲವ, POS: AUX\n",
            "Word: ಹೋಗಲಿ, POS: PROPN\n",
            "Word: ಹೋಗಲಿ.ನೂತನ, POS: NOUN\n",
            "Word: ವರ್ಷದ, POS: PROPN\n",
            "Word: ಶುಭಾಶಯಗಳು, POS: PROPN\n"
          ]
        }
      ]
    },
    {
      "cell_type": "code",
      "source": [
        "import spacy\n",
        "\n",
        "# Load your trained spaCy NER model (replace \"path/to/your/ner_model\" with the actual path)\n",
        "ner_model = spacy.load(\"/content/output\")\n",
        "\n",
        "# Save the trained model\n",
        "ner_model.to_disk(\"/content/output\")\n"
      ],
      "metadata": {
        "id": "LgKfqK5Dz_ie"
      },
      "execution_count": null,
      "outputs": []
    },
    {
      "cell_type": "code",
      "source": [
        "import spacy\n",
        "\n",
        "# Load the trained spaCy NER model\n",
        "ner_model = spacy.load(\"/content/output\")\n",
        "\n",
        "# Example text (replace with your dataset)\n",
        "text = \"ಹೊಸ ವರ್ಷದಲ್ಲಿ ನೀವು ಎಷ್ಟು ಚಿಕ್ಕದೊ ಅಥವಾ ದೊಡ್ಡದೊ ಆಗಲಿ, ಅದು ನಿಮ್ಮ ಪ್ರಯಾಸಗಳನ್ನು ಹೆಚ್ಚಿಸಲಿ ಮತ್ತು ಸಫಲವಾಗಿ ಹೋಗಲಿ. ನೂತನ ವರ್ಷದ ಶುಭಾಶಯಗಳು\"\n",
        "\n",
        "# Process the entire text with the loaded model\n",
        "doc = ner_model(text)\n",
        "\n",
        "# Print entities and their labels for each token (word)\n",
        "for token in doc:\n",
        "    print(f\"Word: {token.text}, Entity: {doc.ents[token.i].text if token.i < len(doc.ents) else 'None'}, Label: {doc.ents[token.i].label_ if token.i < len(doc.ents) else 'None'}\")\n"
      ],
      "metadata": {
        "colab": {
          "base_uri": "https://localhost:8080/"
        },
        "id": "vSwj4CGv4B3h",
        "outputId": "c607729d-6f61-444b-ce73-cf7ba3da8d49"
      },
      "execution_count": null,
      "outputs": [
        {
          "output_type": "stream",
          "name": "stdout",
          "text": [
            "Word: ಹೊಸ, Entity: ಚಿಕ್ಕದೊ ಅಥವಾ, Label: PERSON\n",
            "Word: ವರ್ಷದಲ್ಲಿ, Entity: None, Label: None\n",
            "Word: ನೀವು, Entity: None, Label: None\n",
            "Word: ಎಷ್ಟು, Entity: None, Label: None\n",
            "Word: ಚಿಕ್ಕದೊ, Entity: None, Label: None\n",
            "Word: ಅಥವಾ, Entity: None, Label: None\n",
            "Word: ದೊಡ್ಡದೊ, Entity: None, Label: None\n",
            "Word: ಆಗಲಿ, Entity: None, Label: None\n",
            "Word: ,, Entity: None, Label: None\n",
            "Word: ಅದು, Entity: None, Label: None\n",
            "Word: ನಿಮ್ಮ, Entity: None, Label: None\n",
            "Word: ಪ್ರಯಾಸಗಳನ್ನು, Entity: None, Label: None\n",
            "Word: ಹೆಚ್ಚಿಸಲಿ, Entity: None, Label: None\n",
            "Word: ಮತ್ತು, Entity: None, Label: None\n",
            "Word: ಸಫಲವಾಗಿ, Entity: None, Label: None\n",
            "Word: ಹೋಗಲಿ, Entity: None, Label: None\n",
            "Word: ., Entity: None, Label: None\n",
            "Word: ನೂತನ, Entity: None, Label: None\n",
            "Word: ವರ್ಷದ, Entity: None, Label: None\n",
            "Word: ಶುಭಾಶಯಗಳು, Entity: None, Label: None\n"
          ]
        }
      ]
    }
  ]
}